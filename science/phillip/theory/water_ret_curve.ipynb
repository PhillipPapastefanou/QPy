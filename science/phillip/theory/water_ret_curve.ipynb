{
 "cells": [
  {
   "cell_type": "code",
   "execution_count": 6,
   "metadata": {},
   "outputs": [],
   "source": [
    "import matplotlib.pyplot as plt\n",
    "import pandas as pd\n",
    "import numpy as np\n",
    "import os\n",
    "THIS_DIR = os.path.abspath('')"
   ]
  },
  {
   "cell_type": "markdown",
   "metadata": {},
   "source": []
  },
  {
   "cell_type": "code",
   "execution_count": 44,
   "metadata": {},
   "outputs": [
    {
     "data": {
      "application/vnd.microsoft.datawrangler.viewer.v0+json": {
       "columns": [
        {
         "name": "index",
         "rawType": "int64",
         "type": "integer"
        },
        {
         "name": "Water Content [Vol%]",
         "rawType": "float64",
         "type": "float"
        },
        {
         "name": "log 10 K [cm/d]",
         "rawType": "float64",
         "type": "float"
        }
       ],
       "conversionMethod": "pd.DataFrame",
       "ref": "1b7445df-5a4b-43ea-8cd2-53869cac5ad8",
       "rows": [
        [
         "0",
         "55.28",
         "-2.01"
        ],
        [
         "1",
         "54.98",
         "-0.79"
        ],
        [
         "2",
         "54.65",
         "-0.94"
        ],
        [
         "3",
         "54.33",
         "-0.98"
        ],
        [
         "4",
         "54.0",
         "-1.19"
        ],
        [
         "5",
         "53.67",
         "-1.18"
        ],
        [
         "6",
         "53.25",
         "-1.16"
        ],
        [
         "7",
         "52.84",
         "-1.38"
        ],
        [
         "8",
         "52.46",
         "-1.45"
        ],
        [
         "9",
         "52.06",
         "-1.54"
        ],
        [
         "10",
         "51.67",
         "-1.69"
        ],
        [
         "11",
         "51.33",
         "-1.8"
        ],
        [
         "12",
         "50.99",
         "-1.87"
        ],
        [
         "13",
         "50.65",
         "-1.96"
        ],
        [
         "14",
         "50.3",
         "-2.05"
        ],
        [
         "15",
         "49.93",
         "-2.09"
        ],
        [
         "16",
         "49.57",
         "-2.25"
        ],
        [
         "17",
         "49.21",
         "-2.26"
        ],
        [
         "18",
         "48.83",
         "-2.31"
        ],
        [
         "19",
         "48.43",
         "-2.37"
        ],
        [
         "20",
         "48.06",
         "-2.47"
        ],
        [
         "21",
         "47.7",
         "-2.54"
        ],
        [
         "22",
         "47.35",
         "-2.62"
        ],
        [
         "23",
         "47.01",
         "-2.66"
        ],
        [
         "24",
         "46.64",
         "-2.69"
        ],
        [
         "25",
         "46.24",
         "-2.7"
        ],
        [
         "26",
         "45.85",
         "-2.83"
        ],
        [
         "27",
         "45.49",
         "-2.89"
        ],
        [
         "28",
         "45.14",
         "-2.94"
        ],
        [
         "29",
         "44.77",
         "-2.97"
        ],
        [
         "30",
         "44.41",
         "-3.02"
        ],
        [
         "31",
         "44.04",
         "-3.07"
        ],
        [
         "32",
         "43.68",
         "-3.11"
        ],
        [
         "33",
         "43.29",
         "-3.12"
        ],
        [
         "34",
         "42.89",
         "-3.17"
        ],
        [
         "35",
         "42.49",
         "-3.21"
        ],
        [
         "36",
         "42.09",
         "-3.26"
        ],
        [
         "37",
         "41.69",
         "-3.3"
        ],
        [
         "38",
         "41.31",
         "-3.39"
        ],
        [
         "39",
         "40.93",
         "-3.39"
        ],
        [
         "40",
         "40.53",
         "-3.45"
        ],
        [
         "41",
         "40.15",
         "-3.51"
        ],
        [
         "42",
         "39.74",
         "-3.5"
        ],
        [
         "43",
         "30.73",
         "-4.61"
        ],
        [
         "44",
         "51.83",
         "-0.69"
        ],
        [
         "45",
         "51.59",
         "-0.87"
        ],
        [
         "46",
         "51.34",
         "-0.87"
        ],
        [
         "47",
         "51.08",
         "-0.84"
        ],
        [
         "48",
         "50.83",
         "-1.05"
        ],
        [
         "49",
         "50.59",
         "-1.16"
        ]
       ],
       "shape": {
        "columns": 2,
        "rows": 127
       }
      },
      "text/html": [
       "<div>\n",
       "<style scoped>\n",
       "    .dataframe tbody tr th:only-of-type {\n",
       "        vertical-align: middle;\n",
       "    }\n",
       "\n",
       "    .dataframe tbody tr th {\n",
       "        vertical-align: top;\n",
       "    }\n",
       "\n",
       "    .dataframe thead th {\n",
       "        text-align: right;\n",
       "    }\n",
       "</style>\n",
       "<table border=\"1\" class=\"dataframe\">\n",
       "  <thead>\n",
       "    <tr style=\"text-align: right;\">\n",
       "      <th></th>\n",
       "      <th>Water Content [Vol%]</th>\n",
       "      <th>log 10 K [cm/d]</th>\n",
       "    </tr>\n",
       "  </thead>\n",
       "  <tbody>\n",
       "    <tr>\n",
       "      <th>0</th>\n",
       "      <td>55.28</td>\n",
       "      <td>-2.01</td>\n",
       "    </tr>\n",
       "    <tr>\n",
       "      <th>1</th>\n",
       "      <td>54.98</td>\n",
       "      <td>-0.79</td>\n",
       "    </tr>\n",
       "    <tr>\n",
       "      <th>2</th>\n",
       "      <td>54.65</td>\n",
       "      <td>-0.94</td>\n",
       "    </tr>\n",
       "    <tr>\n",
       "      <th>3</th>\n",
       "      <td>54.33</td>\n",
       "      <td>-0.98</td>\n",
       "    </tr>\n",
       "    <tr>\n",
       "      <th>4</th>\n",
       "      <td>54.00</td>\n",
       "      <td>-1.19</td>\n",
       "    </tr>\n",
       "    <tr>\n",
       "      <th>...</th>\n",
       "      <td>...</td>\n",
       "      <td>...</td>\n",
       "    </tr>\n",
       "    <tr>\n",
       "      <th>122</th>\n",
       "      <td>38.83</td>\n",
       "      <td>-3.47</td>\n",
       "    </tr>\n",
       "    <tr>\n",
       "      <th>123</th>\n",
       "      <td>38.47</td>\n",
       "      <td>-3.52</td>\n",
       "    </tr>\n",
       "    <tr>\n",
       "      <th>124</th>\n",
       "      <td>38.11</td>\n",
       "      <td>-3.58</td>\n",
       "    </tr>\n",
       "    <tr>\n",
       "      <th>125</th>\n",
       "      <td>37.72</td>\n",
       "      <td>-3.59</td>\n",
       "    </tr>\n",
       "    <tr>\n",
       "      <th>126</th>\n",
       "      <td>30.80</td>\n",
       "      <td>-4.64</td>\n",
       "    </tr>\n",
       "  </tbody>\n",
       "</table>\n",
       "<p>127 rows × 2 columns</p>\n",
       "</div>"
      ],
      "text/plain": [
       "     Water Content [Vol%]  log 10 K [cm/d]\n",
       "0                   55.28            -2.01\n",
       "1                   54.98            -0.79\n",
       "2                   54.65            -0.94\n",
       "3                   54.33            -0.98\n",
       "4                   54.00            -1.19\n",
       "..                    ...              ...\n",
       "122                 38.83            -3.47\n",
       "123                 38.47            -3.52\n",
       "124                 38.11            -3.58\n",
       "125                 37.72            -3.59\n",
       "126                 30.80            -4.64\n",
       "\n",
       "[127 rows x 2 columns]"
      ]
     },
     "execution_count": 44,
     "metadata": {},
     "output_type": "execute_result"
    }
   ],
   "source": [
    "df = pd.read_excel(os.path.join(THIS_DIR ,\"top_exported_data.xlsx\"),\n",
    "                   sheet_name=3)\n",
    "\n",
    "df"
   ]
  },
  {
   "cell_type": "code",
   "execution_count": 45,
   "metadata": {},
   "outputs": [],
   "source": [
    "df['K'] = 10**(df['log 10 K [cm/d]'])/100.0/86400"
   ]
  },
  {
   "cell_type": "code",
   "execution_count": 46,
   "metadata": {},
   "outputs": [
    {
     "data": {
      "text/plain": [
       "0      1.131062e-09\n",
       "1      1.877095e-08\n",
       "2      1.328882e-08\n",
       "3      1.211954e-08\n",
       "4      7.472850e-09\n",
       "           ...     \n",
       "122    3.921807e-11\n",
       "123    3.495314e-11\n",
       "124    3.044292e-11\n",
       "125    2.974995e-11\n",
       "126    2.651467e-12\n",
       "Name: K, Length: 127, dtype: float64"
      ]
     },
     "execution_count": 46,
     "metadata": {},
     "output_type": "execute_result"
    }
   ],
   "source": [
    "df['K']"
   ]
  },
  {
   "cell_type": "markdown",
   "metadata": {},
   "source": [
    "df['K']"
   ]
  },
  {
   "cell_type": "code",
   "execution_count": 47,
   "metadata": {},
   "outputs": [
    {
     "data": {
      "image/png": "[encoded data removed]",
      "text/plain": [
       "<Figure size 640x480 with 1 Axes>"
      ]
     },
     "metadata": {},
     "output_type": "display_data"
    }
   ],
   "source": [
    "plt.plot(df['Water Content [Vol%]'], df['K'])\n",
    "plt.yscale('log')"
   ]
  },
  {
   "cell_type": "code",
   "execution_count": 48,
   "metadata": {},
   "outputs": [],
   "source": [
    "def K_QUINCY(theta):\n",
    "    theta_s = 45.4\n",
    "    \n",
    "    sax_c = 17.8\n",
    "    \n",
    "    KSat = 4.6 * 10 ** (-7)\n",
    "    if theta/theta_s > 1:\n",
    "        return KSat\n",
    "    else:\n",
    "        return KSat* (theta/theta_s) ** sax_c\n",
    "    \n",
    "    (theta/theta_s)"
   ]
  },
  {
   "cell_type": "code",
   "execution_count": 50,
   "metadata": {},
   "outputs": [],
   "source": [
    "df[\"K_Q\"] = [K_QUINCY(x) for x in df['Water Content [Vol%]']]"
   ]
  },
  {
   "cell_type": "code",
   "execution_count": 53,
   "metadata": {},
   "outputs": [
    {
     "data": {
      "text/plain": [
       "(1e-20, 1e-05)"
      ]
     },
     "execution_count": 53,
     "metadata": {},
     "output_type": "execute_result"
    },
    {
     "data": {
      "image/png": "[encoded data removed]",
      "text/plain": [
       "<Figure size 640x480 with 1 Axes>"
      ]
     },
     "metadata": {},
     "output_type": "display_data"
    }
   ],
   "source": [
    "plt.scatter(df['Water Content [Vol%]'], df['K'])\n",
    "plt.scatter(df['Water Content [Vol%]'], df['K_Q'])\n",
    "plt.yscale('log')\n",
    "plt.ylim(10**-20, 10**-5)"
   ]
  },
  {
   "cell_type": "code",
   "execution_count": null,
   "metadata": {},
   "outputs": [],
   "source": []
  }
 ],
 "metadata": {
  "kernelspec": {
   "display_name": "Python 3",
   "language": "python",
   "name": "python3"
  },
  "language_info": {
   "codemirror_mode": {
    "name": "ipython",
    "version": 3
   },
   "file_extension": ".py",
   "mimetype": "text/x-python",
   "name": "python",
   "nbconvert_exporter": "python",
   "pygments_lexer": "ipython3",
   "version": "3.11.11"
  }
 },
 "nbformat": 4,
 "nbformat_minor": 2
}
