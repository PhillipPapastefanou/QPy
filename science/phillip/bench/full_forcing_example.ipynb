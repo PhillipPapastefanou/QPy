{
 "cells": [
  {
   "cell_type": "code",
   "execution_count": 3,
   "metadata": {},
   "outputs": [],
   "source": [
    "import numpy as np\n",
    "import os\n",
    "import pandas as pd\n",
    "import matplotlib.pyplot as plt\n",
    "import sys\n",
    "\n",
    "sys.path.append(\"/Net/Groups/BSI/work_scratch/ppapastefanou/src/QPy\")\n"
   ]
  },
  {
   "cell_type": "code",
   "execution_count": 4,
   "metadata": {},
   "outputs": [],
   "source": [
    "rtobspath = '/Net/Groups/BSI/work_scratch/ppapastefanou/data/Fluxnet_detail/eval_processed'\n",
    "df22fnet = pd.read_csv(os.path.join(rtobspath, \"Fluxnet2000_2021_eval.csv\"),  index_col=0, parse_dates=True)\n",
    "df22fnet['LE'] = - df22fnet['LE']\n",
    "df24fnet = pd.read_csv(os.path.join(rtobspath, \"Fluxnet2023_2024_eval.csv\"),  index_col=0, parse_dates=True)\n",
    "df24fnet['LE'] = - df24fnet['LE']\n",
    "\n",
    "df_psi_stem_obs = pd.read_csv(os.path.join(rtobspath, \"PsiStem2023.csv\"),  index_col=0, parse_dates=True)\n",
    "df_sap_flow_obs = pd.read_csv(os.path.join(rtobspath, \"Sapflow2023.csv\"),  index_col=0, parse_dates=True)\n",
    "df_sap_flow_obs.loc[df_sap_flow_obs['J0.5'] < 0.0, 'J0.5'] = 0.0"
   ]
  },
  {
   "cell_type": "code",
   "execution_count": 65,
   "metadata": {},
   "outputs": [
    {
     "data": {
      "application/vnd.microsoft.datawrangler.viewer.v0+json": {
       "columns": [
        {
         "name": "date",
         "rawType": "datetime64[ns]",
         "type": "datetime"
        },
        {
         "name": "J0.1",
         "rawType": "float64",
         "type": "float"
        },
        {
         "name": "J0.25",
         "rawType": "float64",
         "type": "float"
        },
        {
         "name": "J0.5",
         "rawType": "float64",
         "type": "float"
        },
        {
         "name": "J0.75",
         "rawType": "float64",
         "type": "float"
        },
        {
         "name": "J0.9",
         "rawType": "float64",
         "type": "float"
        }
       ],
       "conversionMethod": "pd.DataFrame",
       "ref": "320c2dc6-1d25-4853-aca1-4a31d2ba56ad",
       "rows": [
        [
         "2023-05-01 22:00:00",
         "-1.953358197396488",
         "0.1820931963374534",
         "2.5073025383632834",
         "3.202199130610815",
         "4.340076592491351"
        ],
        [
         "2023-05-01 22:30:00",
         "-2.0448173918168098",
         "0.2633805601217633",
         "1.999431338033884",
         "3.005463165634722",
         "3.961680946594961"
        ],
        [
         "2023-05-01 23:00:00",
         "-1.99336337020768",
         "0.1574458097500255",
         "1.737800719682378",
         "2.558567547860897",
         "3.460054172121069"
        ],
        [
         "2023-05-01 23:30:00",
         "-1.8236045776865084",
         "0.2028464170521986",
         "1.79936086517685",
         "2.5742229296892325",
         "3.387077323729517"
        ],
        [
         "2023-05-02 00:00:00",
         "-1.794785061746868",
         "0.1725793455174166",
         "1.707020646935142",
         "2.5211900210782066",
         "3.20183623018331"
        ],
        [
         "2023-05-02 00:30:00",
         "-1.9266442168679632",
         "0.046456527218927",
         "1.4453900285836332",
         "2.3934956582033045",
         "2.8378171252008717"
        ],
        [
         "2023-05-02 01:00:00",
         "-1.9609907632617816",
         "0.0012443041794182",
         "1.4915601377044878",
         "2.437431729786054",
         "2.769738478802126"
        ],
        [
         "2023-05-02 01:30:00",
         "-1.9791510061826507",
         "-0.0138264368337514",
         "1.1683693738585073",
         "2.3024622719097616",
         "2.653573131689709"
        ],
        [
         "2023-05-02 02:00:00",
         "-1.9099315295422352",
         "-0.0439679188600905",
         "1.2299295193529796",
         "2.3202688722320564",
         "2.6395382001263523"
        ],
        [
         "2023-05-02 02:30:00",
         "-1.9720448241701365",
         "-0.104250882912769",
         "1.1683693738585073",
         "2.29497241386782",
         "2.393151514965123"
        ],
        [
         "2023-05-02 03:00:00",
         "-2.0423170685161103",
         "-0.121068286139129",
         "0.9221287918806166",
         "2.248407688429693",
         "2.294307306218821"
        ],
        [
         "2023-05-02 03:30:00",
         "-2.020077350736204",
         "-0.2248168110181261",
         "1.0452490828695613",
         "2.279450838721779",
         "2.38422024795486"
        ],
        [
         "2023-05-02 04:00:00",
         "-2.06047731143698",
         "-0.2497033401619537",
         "0.7374483553972001",
         "1.9379761855088504",
         "2.3001654490965207"
        ],
        [
         "2023-05-02 04:30:00",
         "-2.152857677599662",
         "-0.5296737518586898",
         "0.6758882099027278",
         "1.9534977606548936",
         "2.198968483838746"
        ],
        [
         "2023-05-02 05:00:00",
         "-2.359854265500395",
         "-0.7040577141143601",
         "0.4912077734193111",
         "1.5654583820038368",
         "2.1381302295268974"
        ],
        [
         "2023-05-02 05:30:00",
         "-2.5885680495327867",
         "-0.9310607506252268",
         "0.3373074096831288",
         "1.4626908198774016",
         "2.1219483102663665"
        ],
        [
         "2023-05-02 06:00:00",
         "-2.7446408618817117",
         "-0.9915948936947908",
         "0.4450376642984556",
         "1.394721055397373",
         "2.018710546438051"
        ],
        [
         "2023-05-02 06:30:00",
         "-2.9359813923668074",
         "-1.2488650017404408",
         "0.091066827705239",
         "1.317113179667162",
         "2.0045933824540847"
        ],
        [
         "2023-05-02 07:00:00",
         "-3.0030953335961192",
         "-1.082396108299139",
         "0.7528383917708186",
         "1.7672388589023864",
         "2.1016128195941546"
        ],
        [
         "2023-05-02 07:30:00",
         "-3.108635296078273",
         "-1.3547997521121775",
         "0.7220583190235814",
         "1.9834256567643176",
         "2.22488313688061"
        ],
        [
         "2023-05-02 08:00:00",
         "-3.635620538553365",
         "-1.536402181320873",
         "0.6143645143869241",
         "1.880908156404573",
         "2.361574778986411"
        ],
        [
         "2023-05-02 08:30:00",
         "-3.973032588184593",
         "-1.6726040032273923",
         "0.7959669435956176",
         "1.807681370433325",
         "3.0518494683827377"
        ],
        [
         "2023-05-02 09:00:00",
         "-5.652723462401808",
         "-2.8681533288512955",
         "0.3268273348064916",
         "1.583900355946198",
         "2.939776062266769"
        ],
        [
         "2023-05-02 09:30:00",
         "-4.318866779460281",
         "-1.4455468330848638",
         "1.658578482336912",
         "2.845883338582881",
         "4.78361196359079"
        ],
        [
         "2023-05-02 10:00:00",
         "-5.073174840492321",
         "-1.7469616533482548",
         "1.705163870073579",
         "4.030916139351482",
         "5.656662397747935"
        ],
        [
         "2023-05-02 10:30:00",
         "-3.5298173841448213",
         "-0.9030001566107584",
         "2.0273617283470675",
         "4.475737244407241",
         "5.999819863861785"
        ],
        [
         "2023-05-02 11:00:00",
         "-2.5946214638397493",
         "-0.1343923649391087",
         "2.6278213733112974",
         "4.52339730330725",
         "6.742256630585217"
        ],
        [
         "2023-05-02 11:30:00",
         "-3.51526682234991",
         "-1.188330858670876",
         "2.027361728347066",
         "3.322974466165039",
         "5.537069933507935"
        ],
        [
         "2023-05-02 12:00:00",
         "-2.801490317981825",
         "-0.6317268183737049",
         "2.378850301009056",
         "4.261766684955742",
         "6.397550436317292"
        ],
        [
         "2023-05-02 12:30:00",
         "-2.6976611030212028",
         "-0.2850997750708043",
         "2.408141015397555",
         "4.461837157812787",
         "6.244115849217888"
        ],
        [
         "2023-05-02 13:00:00",
         "-2.682527567253812",
         "-0.390594962162992",
         "2.422786372591805",
         "4.892529704886212",
         "6.207414354501481"
        ],
        [
         "2023-05-02 13:30:00",
         "-2.266421131632157",
         "-0.0741094008864299",
         "2.686402802088291",
         "5.046658540010278",
         "6.938897176041967"
        ],
        [
         "2023-05-02 14:00:00",
         "-1.729114813908173",
         "0.3026591244428104",
         "2.730338873671039",
         "4.908148212647703",
         "6.96228131958166"
        ],
        [
         "2023-05-02 14:30:00",
         "-1.6285652572575755",
         "0.4903835966326296",
         "2.862147088419277",
         "4.738857812537908",
         "6.432334031767525"
        ],
        [
         "2023-05-02 15:00:00",
         "-1.7024046955841845",
         "0.4081543115349975",
         "2.8475017312250324",
         "4.178028344065111",
         "5.72779971093361"
        ],
        [
         "2023-05-02 15:30:00",
         "-2.07811117050507",
         "0.1574458097500255",
         "2.686402802088295",
         "3.520003381726028",
         "4.744324566827695"
        ],
        [
         "2023-05-02 16:00:00",
         "-2.1024564236960908",
         "0.0313857862057573",
         "2.539949230145801",
         "3.050863772936898",
         "4.003869096746012"
        ],
        [
         "2023-05-02 16:30:00",
         "-1.963188127718684",
         "0.0363775236108963",
         "2.481367801368803",
         "3.065997308704287",
         "4.220916696739026"
        ],
        [
         "2023-05-02 17:00:00",
         "-1.8651365761877825",
         "0.0072184669530229",
         "2.510658515757302",
         "3.338364502538667",
         "4.24520414506181"
        ],
        [
         "2023-05-02 17:30:00",
         "-1.834995094161443",
         "0.2028464170521988",
         "2.5692399445343",
         "3.1870655948434075",
         "4.425979605102884"
        ],
        [
         "2023-05-02 18:00:00",
         "-1.6791122100987224",
         "0.1368809732979446",
         "2.5692399445343",
         "3.1229039933080087",
         "4.304784092937969"
        ],
        [
         "2023-05-02 18:30:00",
         "-1.687563932076088",
         "0.1877128812848076",
         "2.5253038729515507",
         "3.507654902648472",
         "4.664884636326148"
        ],
        [
         "2023-05-02 19:00:00",
         "-1.4661483526986814",
         "0.3478713474823189",
         "2.5985306589227988",
         "3.461484793527611",
         "4.702136416676651"
        ],
        [
         "2023-05-02 19:30:00",
         "-1.572214699033613",
         "0.1434202888595431",
         "2.5253038729515507",
         "3.065997308704296",
         "4.131489523213174"
        ],
        [
         "2023-05-02 20:00:00",
         "-1.6282745793545583",
         "0.0526190742551963",
         "2.3934956582033045",
         "2.899528415262981",
         "3.951222967275256"
        ],
        [
         "2023-05-02 20:30:00",
         "-1.5777417294877916",
         "0.219087967696499",
         "2.322622101879864",
         "2.869261343728204",
         "3.529036123302908"
        ],
        [
         "2023-05-02 21:00:00",
         "-1.493388717079985",
         "0.1434202888595433",
         "2.076381519901976",
         "2.793593664891246",
         "3.431224754677683"
        ],
        [
         "2023-05-02 21:30:00",
         "-1.540368475940495",
         "0.0980196815573697",
         "1.7070206469351397",
         "2.642258307217337",
         "3.1149154093654725"
        ],
        [
         "2023-05-02 22:00:00",
         "-1.4483828976673965",
         "0.2342215034638914",
         "1.9370925782260653",
         "2.5665906283803794",
         "2.9674350002729097"
        ],
        [
         "2023-05-02 22:30:00",
         "-1.4953626565279052",
         "0.1820931963374533",
         "1.8462913636217195",
         "2.4813678013688016",
         "2.6977412708091344"
        ]
       ],
       "shape": {
        "columns": 5,
        "rows": 9010
       }
      },
      "text/html": [
       "<div>\n",
       "<style scoped>\n",
       "    .dataframe tbody tr th:only-of-type {\n",
       "        vertical-align: middle;\n",
       "    }\n",
       "\n",
       "    .dataframe tbody tr th {\n",
       "        vertical-align: top;\n",
       "    }\n",
       "\n",
       "    .dataframe thead th {\n",
       "        text-align: right;\n",
       "    }\n",
       "</style>\n",
       "<table border=\"1\" class=\"dataframe\">\n",
       "  <thead>\n",
       "    <tr style=\"text-align: right;\">\n",
       "      <th></th>\n",
       "      <th>J0.1</th>\n",
       "      <th>J0.25</th>\n",
       "      <th>J0.5</th>\n",
       "      <th>J0.75</th>\n",
       "      <th>J0.9</th>\n",
       "    </tr>\n",
       "    <tr>\n",
       "      <th>date</th>\n",
       "      <th></th>\n",
       "      <th></th>\n",
       "      <th></th>\n",
       "      <th></th>\n",
       "      <th></th>\n",
       "    </tr>\n",
       "  </thead>\n",
       "  <tbody>\n",
       "    <tr>\n",
       "      <th>2023-05-01 22:00:00</th>\n",
       "      <td>-1.953358</td>\n",
       "      <td>0.182093</td>\n",
       "      <td>2.507303</td>\n",
       "      <td>3.202199</td>\n",
       "      <td>4.340077</td>\n",
       "    </tr>\n",
       "    <tr>\n",
       "      <th>2023-05-01 22:30:00</th>\n",
       "      <td>-2.044817</td>\n",
       "      <td>0.263381</td>\n",
       "      <td>1.999431</td>\n",
       "      <td>3.005463</td>\n",
       "      <td>3.961681</td>\n",
       "    </tr>\n",
       "    <tr>\n",
       "      <th>2023-05-01 23:00:00</th>\n",
       "      <td>-1.993363</td>\n",
       "      <td>0.157446</td>\n",
       "      <td>1.737801</td>\n",
       "      <td>2.558568</td>\n",
       "      <td>3.460054</td>\n",
       "    </tr>\n",
       "    <tr>\n",
       "      <th>2023-05-01 23:30:00</th>\n",
       "      <td>-1.823605</td>\n",
       "      <td>0.202846</td>\n",
       "      <td>1.799361</td>\n",
       "      <td>2.574223</td>\n",
       "      <td>3.387077</td>\n",
       "    </tr>\n",
       "    <tr>\n",
       "      <th>2023-05-02 00:00:00</th>\n",
       "      <td>-1.794785</td>\n",
       "      <td>0.172579</td>\n",
       "      <td>1.707021</td>\n",
       "      <td>2.521190</td>\n",
       "      <td>3.201836</td>\n",
       "    </tr>\n",
       "    <tr>\n",
       "      <th>...</th>\n",
       "      <td>...</td>\n",
       "      <td>...</td>\n",
       "      <td>...</td>\n",
       "      <td>...</td>\n",
       "      <td>...</td>\n",
       "    </tr>\n",
       "    <tr>\n",
       "      <th>2023-11-05 12:30:00</th>\n",
       "      <td>-6.002791</td>\n",
       "      <td>-3.859052</td>\n",
       "      <td>0.000000</td>\n",
       "      <td>-1.219486</td>\n",
       "      <td>6.302652</td>\n",
       "    </tr>\n",
       "    <tr>\n",
       "      <th>2023-11-05 13:00:00</th>\n",
       "      <td>-5.760715</td>\n",
       "      <td>-3.632049</td>\n",
       "      <td>0.000000</td>\n",
       "      <td>-1.385264</td>\n",
       "      <td>6.107093</td>\n",
       "    </tr>\n",
       "    <tr>\n",
       "      <th>2023-11-05 13:30:00</th>\n",
       "      <td>-5.694127</td>\n",
       "      <td>-3.465580</td>\n",
       "      <td>0.000000</td>\n",
       "      <td>-1.445547</td>\n",
       "      <td>6.013385</td>\n",
       "    </tr>\n",
       "    <tr>\n",
       "      <th>2023-11-05 14:00:00</th>\n",
       "      <td>-5.252289</td>\n",
       "      <td>-2.739170</td>\n",
       "      <td>0.000000</td>\n",
       "      <td>-1.219486</td>\n",
       "      <td>6.660567</td>\n",
       "    </tr>\n",
       "    <tr>\n",
       "      <th>2023-11-05 14:30:00</th>\n",
       "      <td>-4.913358</td>\n",
       "      <td>-2.270030</td>\n",
       "      <td>0.000000</td>\n",
       "      <td>-1.129061</td>\n",
       "      <td>7.422509</td>\n",
       "    </tr>\n",
       "  </tbody>\n",
       "</table>\n",
       "<p>9010 rows × 5 columns</p>\n",
       "</div>"
      ],
      "text/plain": [
       "                         J0.1     J0.25      J0.5     J0.75      J0.9\n",
       "date                                                                 \n",
       "2023-05-01 22:00:00 -1.953358  0.182093  2.507303  3.202199  4.340077\n",
       "2023-05-01 22:30:00 -2.044817  0.263381  1.999431  3.005463  3.961681\n",
       "2023-05-01 23:00:00 -1.993363  0.157446  1.737801  2.558568  3.460054\n",
       "2023-05-01 23:30:00 -1.823605  0.202846  1.799361  2.574223  3.387077\n",
       "2023-05-02 00:00:00 -1.794785  0.172579  1.707021  2.521190  3.201836\n",
       "...                       ...       ...       ...       ...       ...\n",
       "2023-11-05 12:30:00 -6.002791 -3.859052  0.000000 -1.219486  6.302652\n",
       "2023-11-05 13:00:00 -5.760715 -3.632049  0.000000 -1.385264  6.107093\n",
       "2023-11-05 13:30:00 -5.694127 -3.465580  0.000000 -1.445547  6.013385\n",
       "2023-11-05 14:00:00 -5.252289 -2.739170  0.000000 -1.219486  6.660567\n",
       "2023-11-05 14:30:00 -4.913358 -2.270030  0.000000 -1.129061  7.422509\n",
       "\n",
       "[9010 rows x 5 columns]"
      ]
     },
     "execution_count": 65,
     "metadata": {},
     "output_type": "execute_result"
    }
   ],
   "source": [
    "df_sap_flow_obs"
   ]
  },
  {
   "cell_type": "code",
   "execution_count": null,
   "metadata": {},
   "outputs": [],
   "source": [
    "\n",
    "from src.postprocessing.qnc_defintions import Time_Reduction_Type\n",
    "from src.postprocessing.qnc_output_parser import QNC_output_parser\n",
    "from src.postprocessing.qnc_ncdf_reader import QNC_ncdf_reader\n",
    "from src.postprocessing.qnc_rescaler import QNC_Rescaler\n",
    "from src.postprocessing.qnc_obs_reader import QNC_obs_reader\n",
    "    \n",
    "OUTPUT_DIR = '/Net/Groups/BSI/scratch/ppapastefanou/simulations/QPy/11_transient_latin_hypercube_with_std_HAINICH_data'\n",
    "OUTPUT_DIR = '/Net/Groups/BSI/scratch/ppapastefanou/simulations/QPy/15_transient_latin_hypercube_with_std_HAINICH_data_full_2024'\n",
    "post_dir = os.path.join(OUTPUT_DIR, 'post')\n",
    "os.makedirs(post_dir, exist_ok=True)\n",
    "\n",
    "def rmse(predictions, targets):\n",
    "    return np.sqrt(((predictions - targets) ** 2).mean())       \n",
    "\n",
    "def calc_rmse(df_slice_mod, var_mod, df_slice_obs, var_obs, normalized = False):\n",
    "    dfm = pd.merge(df_slice_mod[var_mod], df_slice_obs[var_obs], left_index=True, right_index=True, how='inner')\n",
    "    \n",
    "    if normalized:\n",
    "        dfm[var_mod] = dfm[var_mod]/np.max(dfm[var_mod])\n",
    "        dfm[var_obs] = dfm[var_obs]/np.max(dfm[var_obs])\n",
    "        \n",
    "    return rmse(dfm[var_mod], dfm[var_obs])\n",
    "\n",
    "nsims = 0\n",
    "for item in os.listdir(os.path.join(OUTPUT_DIR, \"output\")):\n",
    "    item_path = os.path.join(OUTPUT_DIR, \"output\", item)\n",
    "    if os.path.isdir(item_path):\n",
    "        nsims += 1"
   ]
  },
  {
   "cell_type": "code",
   "execution_count": 67,
   "metadata": {},
   "outputs": [
    {
     "name": "stdout",
     "output_type": "stream",
     "text": [
      "     Reading time variable...      Done! (0.0 sec.)\n",
      "     Parsing time variable... Done! (1.8 sec.)\n",
      "     Reading variable names and units... Done! (1.8 sec.)\n",
      "Reading 1D variable... Done! (0.0 sec.)\n",
      "Reading 1D variable... Done! (0.0 sec.)\n",
      "Reading 1D variable... Done! (0.0 sec.)\n",
      "Reading 1D variable... Done! (0.0 sec.)\n",
      "     Reading time variable...      Done! (0.0 sec.)\n",
      "     Parsing time variable... Done! (1.7 sec.)\n",
      "     Reading variable names and units... Done! (1.7 sec.)\n",
      "Reading 1D variable... Done! (0.0 sec.)\n",
      "Reading 1D variable... Done! (0.0 sec.)\n",
      "Reading 1D variable... Done! (0.0 sec.)\n",
      "Reading 1D variable... Done! (0.0 sec.)\n",
      "     Reading time variable...      Done! (0.0 sec.)\n",
      "     Parsing time variable... Done! (1.8 sec.)\n",
      "     Reading variable names and units... Done! (1.8 sec.)\n",
      "Reading 1D variable... Done! (0.0 sec.)\n",
      "Reading 1D variable... Done! (0.0 sec.)\n",
      "Reading 1D variable... Done! (0.0 sec.)\n",
      "Reading 1D variable... Done! (0.0 sec.)\n",
      "     Reading time variable...      Done! (0.0 sec.)\n",
      "     Parsing time variable... Done! (1.7 sec.)\n",
      "     Reading variable names and units... Done! (1.7 sec.)\n",
      "Reading 1D variable... Done! (0.0 sec.)\n",
      "Reading 1D variable... Done! (0.0 sec.)\n",
      "Reading 1D variable... Done! (0.0 sec.)\n",
      "Reading 1D variable... Done! (0.0 sec.)\n",
      "     Reading time variable...      Done! (0.0 sec.)\n",
      "     Parsing time variable... Done! (1.7 sec.)\n",
      "     Reading variable names and units... Done! (1.7 sec.)\n",
      "Reading 1D variable... Done! (0.0 sec.)\n",
      "Reading 1D variable... Done! (0.0 sec.)\n",
      "Reading 1D variable... Done! (0.0 sec.)\n",
      "Reading 1D variable... Done! (0.0 sec.)\n",
      "     Reading time variable...      Done! (0.0 sec.)\n",
      "     Parsing time variable... Done! (1.8 sec.)\n",
      "     Reading variable names and units... Done! (1.8 sec.)\n",
      "Reading 1D variable... Done! (0.0 sec.)\n",
      "Reading 1D variable... Done! (0.0 sec.)\n",
      "Reading 1D variable... Done! (0.0 sec.)\n",
      "Reading 1D variable... Done! (0.0 sec.)\n",
      "     Reading time variable...      Done! (0.0 sec.)\n",
      "     Parsing time variable... Done! (1.7 sec.)\n",
      "     Reading variable names and units... Done! (1.7 sec.)\n",
      "Reading 1D variable... Done! (0.0 sec.)\n",
      "Reading 1D variable... Done! (0.0 sec.)\n",
      "Reading 1D variable... Done! (0.0 sec.)\n",
      "Reading 1D variable... Done! (0.0 sec.)\n",
      "     Reading time variable...      Done! (0.0 sec.)\n",
      "     Parsing time variable... Done! (1.7 sec.)\n",
      "     Reading variable names and units... Done! (1.7 sec.)\n",
      "Reading 1D variable... Done! (0.0 sec.)\n",
      "Reading 1D variable... Done! (0.0 sec.)\n",
      "Reading 1D variable... Done! (0.0 sec.)\n",
      "Reading 1D variable... Done! (0.0 sec.)\n",
      "     Reading time variable...      Done! (0.0 sec.)\n",
      "     Parsing time variable... Done! (1.7 sec.)\n",
      "     Reading variable names and units... Done! (1.7 sec.)\n",
      "Reading 1D variable... Done! (0.0 sec.)\n",
      "Reading 1D variable... Done! (0.0 sec.)\n",
      "Reading 1D variable... Done! (0.0 sec.)\n",
      "Reading 1D variable... Done! (0.0 sec.)\n",
      "     Reading time variable...      Done! (0.0 sec.)\n",
      "     Parsing time variable... Done! (1.8 sec.)\n",
      "     Reading variable names and units... Done! (1.8 sec.)\n",
      "Reading 1D variable... Done! (0.0 sec.)\n",
      "Reading 1D variable... Done! (0.0 sec.)\n",
      "Reading 1D variable... Done! (0.0 sec.)\n",
      "Reading 1D variable... Done! (0.0 sec.)\n"
     ]
    }
   ],
   "source": [
    "df_rmse = pd.DataFrame(columns= ['fid', 'rmse_psi_stem', 'rmse_psi_stem_norm', 'rmse_gpp_22', 'rmse_gpp_24', 'rmse_le_22', 'rmse_le_24', 'rmse_sapflow_norm'])\n",
    "fids = np.arange(0,nsims)\n",
    "\n",
    "for fid in fids:\n",
    "    parser = QNC_output_parser(os.path.join(OUTPUT_DIR, 'output', str(fid)))\n",
    "    parser.Read()\n",
    "    output = parser.Available_outputs['fluxnetdata']\n",
    "    nc_out_reader = QNC_ncdf_reader(os.path.join(OUTPUT_DIR, 'output', str(fid)),\n",
    "                                            output.Categories,\n",
    "                                            output.Identifier,\n",
    "                                            output.Time_resolution\n",
    "                                            )\n",
    "    nc_out_reader.Parse_env_and_variables()\n",
    "\n",
    "    cat = 'Q_ASSIMI'\n",
    "    var_mod = 'gpp_avg'\n",
    "    df_gpp = nc_out_reader.Read_1D_flat(cat, var_mod)\n",
    "    df_gpp.set_index('date', inplace=True)\n",
    "    df_gpp.drop('index', axis = 1, inplace=True)\n",
    "\n",
    "    cat = 'SPQ'\n",
    "    var_mod = 'qle_avg'\n",
    "    df_le = nc_out_reader.Read_1D_flat(cat, var_mod)\n",
    "    df_le.set_index('date', inplace=True)\n",
    "    df_le.drop('index', axis = 1, inplace=True)\n",
    "\n",
    "    cat = 'PHYD'\n",
    "    var_mod = 'psi_stem_avg'\n",
    "    df_psi_stem_mod = nc_out_reader.Read_1D_flat(cat, var_mod)\n",
    "    df_psi_stem_mod.set_index('date', inplace=True)\n",
    "    df_psi_stem_mod.drop('index', axis = 1, inplace=True)\n",
    "\n",
    "    cat = 'PHYD'\n",
    "    var_mod = 'G_avg'\n",
    "    df_G_mod = nc_out_reader.Read_1D_flat(cat, var_mod)\n",
    "    df_G_mod.set_index('date', inplace=True)\n",
    "    df_G_mod.drop('index', axis = 1, inplace=True)\n",
    "    \n",
    "    nc_out_reader.Close()\n",
    "\n",
    "\n",
    "    rmse_psi_stem = calc_rmse(df_psi_stem_mod,'psi_stem_avg', df_psi_stem_obs, \"FAG\")\n",
    "    rmse_psi_stem_norm = calc_rmse(df_psi_stem_mod,'psi_stem_avg', df_psi_stem_obs, \"FAG\", normalized=True)\n",
    "    rmse_gpp_22 = calc_rmse(df_gpp, 'gpp_avg', df22fnet, 'GPP')\n",
    "    rmse_gpp_24 = calc_rmse(df_gpp, 'gpp_avg', df24fnet, 'GPP')\n",
    "    rmse_le_22  = calc_rmse(df_le, 'qle_avg', df22fnet, 'LE')\n",
    "    rmse_le_24  = calc_rmse(df_le, 'qle_avg', df24fnet, 'LE')\n",
    "    rmse_sapflow_norm = calc_rmse(df_G_mod,'G_avg', df_sap_flow_obs, \"J0.5\", normalized=True)\n",
    "\n",
    "    df_rmse.loc[len(df_rmse)] = [fid, rmse_psi_stem, rmse_psi_stem_norm, rmse_gpp_22, rmse_gpp_24, rmse_le_22, rmse_le_24, rmse_sapflow_norm]\n",
    "    \n",
    "    print(f\"Completed {fid} out of {nsims}.\")\n",
    "\n",
    "df_rmse.to_csv(os.path.join(post_dir, \"standard_ranking.csv\"), index= False)"
   ]
  },
  {
   "cell_type": "code",
   "execution_count": 58,
   "metadata": {},
   "outputs": [
    {
     "data": {
      "application/vnd.microsoft.datawrangler.viewer.v0+json": {
       "columns": [
        {
         "name": "index",
         "rawType": "int64",
         "type": "integer"
        },
        {
         "name": "fid",
         "rawType": "float64",
         "type": "float"
        },
        {
         "name": "rmse_psi_stem",
         "rawType": "float64",
         "type": "float"
        },
        {
         "name": "rmse_gpp_22",
         "rawType": "float64",
         "type": "float"
        },
        {
         "name": "rmse_gpp_24",
         "rawType": "float64",
         "type": "float"
        },
        {
         "name": "rmse_le_22",
         "rawType": "float64",
         "type": "float"
        },
        {
         "name": "rmse_le_24",
         "rawType": "float64",
         "type": "float"
        },
        {
         "name": "rmse_sapflow_norm",
         "rawType": "float64",
         "type": "float"
        }
       ],
       "conversionMethod": "pd.DataFrame",
       "ref": "93c78151-462b-404b-9038-6c7180db3401",
       "rows": [
        [
         "0",
         "0.0",
         "0.35395564763080867",
         "3.635981741954122",
         "3.2781690291904946",
         "43.88322284839233",
         "46.94721363732314",
         null
        ],
        [
         "1",
         "1.0",
         "0.3240321041377402",
         "3.8246604103944253",
         "3.3606835099835193",
         "46.98578370546626",
         "51.112348062230176",
         "0.23899095941198714"
        ],
        [
         "2",
         "2.0",
         "0.31890292883663635",
         "3.6139421591649845",
         "3.285718566624492",
         "40.74543081243326",
         "40.922717777289975",
         "0.23890405458293007"
        ]
       ],
       "shape": {
        "columns": 7,
        "rows": 3
       }
      },
      "text/html": [
       "<div>\n",
       "<style scoped>\n",
       "    .dataframe tbody tr th:only-of-type {\n",
       "        vertical-align: middle;\n",
       "    }\n",
       "\n",
       "    .dataframe tbody tr th {\n",
       "        vertical-align: top;\n",
       "    }\n",
       "\n",
       "    .dataframe thead th {\n",
       "        text-align: right;\n",
       "    }\n",
       "</style>\n",
       "<table border=\"1\" class=\"dataframe\">\n",
       "  <thead>\n",
       "    <tr style=\"text-align: right;\">\n",
       "      <th></th>\n",
       "      <th>fid</th>\n",
       "      <th>rmse_psi_stem</th>\n",
       "      <th>rmse_gpp_22</th>\n",
       "      <th>rmse_gpp_24</th>\n",
       "      <th>rmse_le_22</th>\n",
       "      <th>rmse_le_24</th>\n",
       "      <th>rmse_sapflow_norm</th>\n",
       "    </tr>\n",
       "  </thead>\n",
       "  <tbody>\n",
       "    <tr>\n",
       "      <th>0</th>\n",
       "      <td>0.0</td>\n",
       "      <td>0.353956</td>\n",
       "      <td>3.635982</td>\n",
       "      <td>3.278169</td>\n",
       "      <td>43.883223</td>\n",
       "      <td>46.947214</td>\n",
       "      <td>NaN</td>\n",
       "    </tr>\n",
       "    <tr>\n",
       "      <th>1</th>\n",
       "      <td>1.0</td>\n",
       "      <td>0.324032</td>\n",
       "      <td>3.824660</td>\n",
       "      <td>3.360684</td>\n",
       "      <td>46.985784</td>\n",
       "      <td>51.112348</td>\n",
       "      <td>0.238991</td>\n",
       "    </tr>\n",
       "    <tr>\n",
       "      <th>2</th>\n",
       "      <td>2.0</td>\n",
       "      <td>0.318903</td>\n",
       "      <td>3.613942</td>\n",
       "      <td>3.285719</td>\n",
       "      <td>40.745431</td>\n",
       "      <td>40.922718</td>\n",
       "      <td>0.238904</td>\n",
       "    </tr>\n",
       "  </tbody>\n",
       "</table>\n",
       "</div>"
      ],
      "text/plain": [
       "   fid  rmse_psi_stem  rmse_gpp_22  rmse_gpp_24  rmse_le_22  rmse_le_24  \\\n",
       "0  0.0       0.353956     3.635982     3.278169   43.883223   46.947214   \n",
       "1  1.0       0.324032     3.824660     3.360684   46.985784   51.112348   \n",
       "2  2.0       0.318903     3.613942     3.285719   40.745431   40.922718   \n",
       "\n",
       "   rmse_sapflow_norm  \n",
       "0                NaN  \n",
       "1           0.238991  \n",
       "2           0.238904  "
      ]
     },
     "execution_count": 58,
     "metadata": {},
     "output_type": "execute_result"
    }
   ],
   "source": [
    "df_rmse"
   ]
  },
  {
   "cell_type": "code",
   "execution_count": null,
   "metadata": {},
   "outputs": [],
   "source": [
    "\n",
    "    "
   ]
  },
  {
   "cell_type": "code",
   "execution_count": null,
   "metadata": {},
   "outputs": [],
   "source": [
    "\n"
   ]
  },
  {
   "cell_type": "code",
   "execution_count": null,
   "metadata": {},
   "outputs": [],
   "source": []
  },
  {
   "cell_type": "code",
   "execution_count": null,
   "metadata": {},
   "outputs": [],
   "source": []
  },
  {
   "cell_type": "code",
   "execution_count": 55,
   "metadata": {},
   "outputs": [
    {
     "data": {
      "application/vnd.microsoft.datawrangler.viewer.v0+json": {
       "columns": [
        {
         "name": "index",
         "rawType": "int64",
         "type": "integer"
        },
        {
         "name": "fid",
         "rawType": "float64",
         "type": "float"
        },
        {
         "name": "rmse_psi_stem",
         "rawType": "float64",
         "type": "float"
        },
        {
         "name": "rmse_gpp_22",
         "rawType": "float64",
         "type": "float"
        },
        {
         "name": "rmse_gpp_24",
         "rawType": "float64",
         "type": "float"
        },
        {
         "name": "rmse_le_22",
         "rawType": "float64",
         "type": "float"
        },
        {
         "name": "rmse_le_24",
         "rawType": "float64",
         "type": "float"
        },
        {
         "name": "rmse_sapflow_norm",
         "rawType": "float64",
         "type": "float"
        }
       ],
       "conversionMethod": "pd.DataFrame",
       "ref": "8854c58f-b1c9-4827-8add-16bbf2a860c4",
       "rows": [
        [
         "0",
         "1.0",
         "0.3240321041377402",
         "3.8246604103944253",
         "3.3606835099835193",
         "46.98578370546626",
         "51.112348062230176",
         "0.23899095941198714"
        ]
       ],
       "shape": {
        "columns": 7,
        "rows": 1
       }
      },
      "text/html": [
       "<div>\n",
       "<style scoped>\n",
       "    .dataframe tbody tr th:only-of-type {\n",
       "        vertical-align: middle;\n",
       "    }\n",
       "\n",
       "    .dataframe tbody tr th {\n",
       "        vertical-align: top;\n",
       "    }\n",
       "\n",
       "    .dataframe thead th {\n",
       "        text-align: right;\n",
       "    }\n",
       "</style>\n",
       "<table border=\"1\" class=\"dataframe\">\n",
       "  <thead>\n",
       "    <tr style=\"text-align: right;\">\n",
       "      <th></th>\n",
       "      <th>fid</th>\n",
       "      <th>rmse_psi_stem</th>\n",
       "      <th>rmse_gpp_22</th>\n",
       "      <th>rmse_gpp_24</th>\n",
       "      <th>rmse_le_22</th>\n",
       "      <th>rmse_le_24</th>\n",
       "      <th>rmse_sapflow_norm</th>\n",
       "    </tr>\n",
       "  </thead>\n",
       "  <tbody>\n",
       "    <tr>\n",
       "      <th>0</th>\n",
       "      <td>1.0</td>\n",
       "      <td>0.324032</td>\n",
       "      <td>3.82466</td>\n",
       "      <td>3.360684</td>\n",
       "      <td>46.985784</td>\n",
       "      <td>51.112348</td>\n",
       "      <td>0.238991</td>\n",
       "    </tr>\n",
       "  </tbody>\n",
       "</table>\n",
       "</div>"
      ],
      "text/plain": [
       "   fid  rmse_psi_stem  rmse_gpp_22  rmse_gpp_24  rmse_le_22  rmse_le_24  \\\n",
       "0  1.0       0.324032      3.82466     3.360684   46.985784   51.112348   \n",
       "\n",
       "   rmse_sapflow_norm  \n",
       "0           0.238991  "
      ]
     },
     "execution_count": 55,
     "metadata": {},
     "output_type": "execute_result"
    }
   ],
   "source": [
    "df_rmse"
   ]
  },
  {
   "cell_type": "code",
   "execution_count": 31,
   "metadata": {},
   "outputs": [
    {
     "ename": "KeyError",
     "evalue": "'G_avg'",
     "output_type": "error",
     "traceback": [
      "\u001b[0;31m---------------------------------------------------------------------------\u001b[0m",
      "\u001b[0;31mKeyError\u001b[0m                                  Traceback (most recent call last)",
      "File \u001b[0;32m/Net/Groups/BSI/work_scratch/ppapastefanou/envs/phs/lib/python3.11/site-packages/pandas/core/indexes/base.py:3805\u001b[0m, in \u001b[0;36mIndex.get_loc\u001b[0;34m(self, key)\u001b[0m\n\u001b[1;32m   3804\u001b[0m \u001b[38;5;28;01mtry\u001b[39;00m:\n\u001b[0;32m-> 3805\u001b[0m     \u001b[38;5;28;01mreturn\u001b[39;00m \u001b[38;5;28;43mself\u001b[39;49m\u001b[38;5;241;43m.\u001b[39;49m\u001b[43m_engine\u001b[49m\u001b[38;5;241;43m.\u001b[39;49m\u001b[43mget_loc\u001b[49m\u001b[43m(\u001b[49m\u001b[43mcasted_key\u001b[49m\u001b[43m)\u001b[49m\n\u001b[1;32m   3806\u001b[0m \u001b[38;5;28;01mexcept\u001b[39;00m \u001b[38;5;167;01mKeyError\u001b[39;00m \u001b[38;5;28;01mas\u001b[39;00m err:\n",
      "File \u001b[0;32mindex.pyx:167\u001b[0m, in \u001b[0;36mpandas._libs.index.IndexEngine.get_loc\u001b[0;34m()\u001b[0m\n",
      "File \u001b[0;32mindex.pyx:196\u001b[0m, in \u001b[0;36mpandas._libs.index.IndexEngine.get_loc\u001b[0;34m()\u001b[0m\n",
      "File \u001b[0;32mpandas/_libs/hashtable_class_helper.pxi:7081\u001b[0m, in \u001b[0;36mpandas._libs.hashtable.PyObjectHashTable.get_item\u001b[0;34m()\u001b[0m\n",
      "File \u001b[0;32mpandas/_libs/hashtable_class_helper.pxi:7089\u001b[0m, in \u001b[0;36mpandas._libs.hashtable.PyObjectHashTable.get_item\u001b[0;34m()\u001b[0m\n",
      "\u001b[0;31mKeyError\u001b[0m: 'G_avg'",
      "\nThe above exception was the direct cause of the following exception:\n",
      "\u001b[0;31mKeyError\u001b[0m                                  Traceback (most recent call last)",
      "Cell \u001b[0;32mIn[31], line 2\u001b[0m\n\u001b[1;32m      1\u001b[0m plt\u001b[38;5;241m.\u001b[39mplot(df_sap_flow_obs[\u001b[38;5;124m'\u001b[39m\u001b[38;5;124mJ0.5\u001b[39m\u001b[38;5;124m'\u001b[39m], alpha \u001b[38;5;241m=\u001b[39m \u001b[38;5;241m0.5\u001b[39m)\n\u001b[0;32m----> 2\u001b[0m plt\u001b[38;5;241m.\u001b[39mplot(\u001b[43mdf_psi_stem_mod\u001b[49m\u001b[43m[\u001b[49m\u001b[38;5;124;43m'\u001b[39;49m\u001b[38;5;124;43mG_avg\u001b[39;49m\u001b[38;5;124;43m'\u001b[39;49m\u001b[43m]\u001b[49m, alpha \u001b[38;5;241m=\u001b[39m \u001b[38;5;241m0.5\u001b[39m)\n\u001b[1;32m      3\u001b[0m plt\u001b[38;5;241m.\u001b[39mxlim(pd\u001b[38;5;241m.\u001b[39mto_datetime(\u001b[38;5;124m'\u001b[39m\u001b[38;5;124m2023-05-01 00:00:00\u001b[39m\u001b[38;5;124m'\u001b[39m), pd\u001b[38;5;241m.\u001b[39mto_datetime(\u001b[38;5;124m'\u001b[39m\u001b[38;5;124m2023-11-01\u001b[39m\u001b[38;5;124m'\u001b[39m))\n",
      "File \u001b[0;32m/Net/Groups/BSI/work_scratch/ppapastefanou/envs/phs/lib/python3.11/site-packages/pandas/core/frame.py:4102\u001b[0m, in \u001b[0;36mDataFrame.__getitem__\u001b[0;34m(self, key)\u001b[0m\n\u001b[1;32m   4100\u001b[0m \u001b[38;5;28;01mif\u001b[39;00m \u001b[38;5;28mself\u001b[39m\u001b[38;5;241m.\u001b[39mcolumns\u001b[38;5;241m.\u001b[39mnlevels \u001b[38;5;241m>\u001b[39m \u001b[38;5;241m1\u001b[39m:\n\u001b[1;32m   4101\u001b[0m     \u001b[38;5;28;01mreturn\u001b[39;00m \u001b[38;5;28mself\u001b[39m\u001b[38;5;241m.\u001b[39m_getitem_multilevel(key)\n\u001b[0;32m-> 4102\u001b[0m indexer \u001b[38;5;241m=\u001b[39m \u001b[38;5;28;43mself\u001b[39;49m\u001b[38;5;241;43m.\u001b[39;49m\u001b[43mcolumns\u001b[49m\u001b[38;5;241;43m.\u001b[39;49m\u001b[43mget_loc\u001b[49m\u001b[43m(\u001b[49m\u001b[43mkey\u001b[49m\u001b[43m)\u001b[49m\n\u001b[1;32m   4103\u001b[0m \u001b[38;5;28;01mif\u001b[39;00m is_integer(indexer):\n\u001b[1;32m   4104\u001b[0m     indexer \u001b[38;5;241m=\u001b[39m [indexer]\n",
      "File \u001b[0;32m/Net/Groups/BSI/work_scratch/ppapastefanou/envs/phs/lib/python3.11/site-packages/pandas/core/indexes/base.py:3812\u001b[0m, in \u001b[0;36mIndex.get_loc\u001b[0;34m(self, key)\u001b[0m\n\u001b[1;32m   3807\u001b[0m     \u001b[38;5;28;01mif\u001b[39;00m \u001b[38;5;28misinstance\u001b[39m(casted_key, \u001b[38;5;28mslice\u001b[39m) \u001b[38;5;129;01mor\u001b[39;00m (\n\u001b[1;32m   3808\u001b[0m         \u001b[38;5;28misinstance\u001b[39m(casted_key, abc\u001b[38;5;241m.\u001b[39mIterable)\n\u001b[1;32m   3809\u001b[0m         \u001b[38;5;129;01mand\u001b[39;00m \u001b[38;5;28many\u001b[39m(\u001b[38;5;28misinstance\u001b[39m(x, \u001b[38;5;28mslice\u001b[39m) \u001b[38;5;28;01mfor\u001b[39;00m x \u001b[38;5;129;01min\u001b[39;00m casted_key)\n\u001b[1;32m   3810\u001b[0m     ):\n\u001b[1;32m   3811\u001b[0m         \u001b[38;5;28;01mraise\u001b[39;00m InvalidIndexError(key)\n\u001b[0;32m-> 3812\u001b[0m     \u001b[38;5;28;01mraise\u001b[39;00m \u001b[38;5;167;01mKeyError\u001b[39;00m(key) \u001b[38;5;28;01mfrom\u001b[39;00m \u001b[38;5;21;01merr\u001b[39;00m\n\u001b[1;32m   3813\u001b[0m \u001b[38;5;28;01mexcept\u001b[39;00m \u001b[38;5;167;01mTypeError\u001b[39;00m:\n\u001b[1;32m   3814\u001b[0m     \u001b[38;5;66;03m# If we have a listlike key, _check_indexing_error will raise\u001b[39;00m\n\u001b[1;32m   3815\u001b[0m     \u001b[38;5;66;03m#  InvalidIndexError. Otherwise we fall through and re-raise\u001b[39;00m\n\u001b[1;32m   3816\u001b[0m     \u001b[38;5;66;03m#  the TypeError.\u001b[39;00m\n\u001b[1;32m   3817\u001b[0m     \u001b[38;5;28mself\u001b[39m\u001b[38;5;241m.\u001b[39m_check_indexing_error(key)\n",
      "\u001b[0;31mKeyError\u001b[0m: 'G_avg'"
     ]
    },
    {
     "data": {
      "image/png": "[encoded data removed]",
      "text/plain": [
       "<Figure size 640x480 with 1 Axes>"
      ]
     },
     "metadata": {},
     "output_type": "display_data"
    }
   ],
   "source": [
    "plt.plot(df_sap_flow_obs['J0.5'], alpha = 0.5)\n",
    "plt.plot(df_psi_stem_mod['G_avg'], alpha = 0.5)\n",
    "plt.xlim(pd.to_datetime('2023-05-01 00:00:00'), pd.to_datetime('2023-11-01'))"
   ]
  },
  {
   "cell_type": "code",
   "execution_count": 118,
   "metadata": {},
   "outputs": [
    {
     "data": {
      "text/plain": [
       "date\n",
       "2000-01-01 00:00:00    2.714348e-10\n",
       "2000-01-01 00:30:00    2.714348e-10\n",
       "2000-01-01 01:00:00    2.714348e-10\n",
       "2000-01-01 01:30:00    2.714348e-10\n",
       "2000-01-01 02:00:00    2.714348e-10\n",
       "                           ...     \n",
       "2024-12-31 21:30:00    1.165234e-10\n",
       "2024-12-31 22:00:00    1.165234e-10\n",
       "2024-12-31 22:30:00    1.165234e-10\n",
       "2024-12-31 23:00:00    1.165234e-10\n",
       "2024-12-31 23:30:00    1.165234e-10\n",
       "Name: stem_flow_avg, Length: 438000, dtype: float32"
      ]
     },
     "execution_count": 118,
     "metadata": {},
     "output_type": "execute_result"
    }
   ],
   "source": [
    "df_psi_stem_mod['stem_flow_avg']"
   ]
  },
  {
   "cell_type": "code",
   "execution_count": 32,
   "metadata": {},
   "outputs": [
    {
     "data": {
      "text/plain": [
       "0.3240321041377402"
      ]
     },
     "execution_count": 32,
     "metadata": {},
     "output_type": "execute_result"
    }
   ],
   "source": [
    "calc_rmse(df_psi_stem_mod,'psi_stem_avg', df_psi_stem_obs, \"FAG\")"
   ]
  },
  {
   "cell_type": "code",
   "execution_count": null,
   "metadata": {},
   "outputs": [
    {
     "data": {
      "text/plain": [
       "3.2781690291904946"
      ]
     },
     "execution_count": 58,
     "metadata": {},
     "output_type": "execute_result"
    }
   ],
   "source": [
    "calc_rmse(df_gpp, 'gpp_avg', df24fnet, 'GPP')"
   ]
  },
  {
   "cell_type": "code",
   "execution_count": null,
   "metadata": {},
   "outputs": [
    {
     "data": {
      "text/plain": [
       "3.635981741954122"
      ]
     },
     "execution_count": 59,
     "metadata": {},
     "output_type": "execute_result"
    }
   ],
   "source": [
    "calc_rmse(df_gpp, 'gpp_avg', df22fnet, 'GPP')"
   ]
  },
  {
   "cell_type": "code",
   "execution_count": 69,
   "metadata": {},
   "outputs": [
    {
     "data": {
      "text/plain": [
       "43.88322284839233"
      ]
     },
     "execution_count": 69,
     "metadata": {},
     "output_type": "execute_result"
    }
   ],
   "source": [
    "calc_rmse(df_le, 'qle_avg', df22fnet, 'LE')"
   ]
  },
  {
   "cell_type": "code",
   "execution_count": 73,
   "metadata": {},
   "outputs": [
    {
     "data": {
      "text/plain": [
       "46.94721363732314"
      ]
     },
     "execution_count": 73,
     "metadata": {},
     "output_type": "execute_result"
    }
   ],
   "source": [
    "calc_rmse(df_le, 'qle_avg', df24fnet, 'LE')"
   ]
  },
  {
   "cell_type": "code",
   "execution_count": 72,
   "metadata": {},
   "outputs": [
    {
     "data": {
      "text/plain": [
       "[<matplotlib.lines.Line2D at 0x7f6fbcdb0750>]"
      ]
     },
     "execution_count": 72,
     "metadata": {},
     "output_type": "execute_result"
    },
    {
     "data": {
      "image/png": "[encoded data removed]",
      "text/plain": [
       "<Figure size 640x480 with 1 Axes>"
      ]
     },
     "metadata": {},
     "output_type": "display_data"
    }
   ],
   "source": [
    "plt.plot(df22fnet['LE'])"
   ]
  },
  {
   "cell_type": "code",
   "execution_count": null,
   "metadata": {},
   "outputs": [],
   "source": []
  }
 ],
 "metadata": {
  "kernelspec": {
   "display_name": "Python 3",
   "language": "python",
   "name": "python3"
  },
  "language_info": {
   "codemirror_mode": {
    "name": "ipython",
    "version": 3
   },
   "file_extension": ".py",
   "mimetype": "text/x-python",
   "name": "python",
   "nbconvert_exporter": "python",
   "pygments_lexer": "ipython3",
   "version": "3.11.11"
  }
 },
 "nbformat": 4,
 "nbformat_minor": 2
}
